{
 "cells": [
  {
   "cell_type": "markdown",
   "metadata": {},
   "source": [
    "# Transcription with advance data preprocessing and augmentation"
   ]
  },
  {
   "cell_type": "markdown",
   "metadata": {},
   "source": [
    "### Prep for device config(device type = arm mac sillicon)"
   ]
  },
  {
   "cell_type": "code",
   "execution_count": 1,
   "metadata": {},
   "outputs": [],
   "source": [
    "import os \n",
    "os.environ['PYTORCH_ENABLE_MPS_FALLBACK'] = '1'\n",
    "os.environ['PYTORCH_MPS_HIGH_WATERMARK_RATIO'] = '0.0'\n",
    "\n",
    "import warnings\n",
    "warnings.filterwarnings('ignore')"
   ]
  },
  {
   "cell_type": "code",
   "execution_count": 2,
   "metadata": {},
   "outputs": [],
   "source": [
    "# mps config\n",
    "import torch\n",
    "\n",
    "device = \"mps\" if torch.backends.mps.is_available() else \"cpu\"\n",
    "torch_dtype = torch.float16 if torch.backends.mps.is_available() else torch.float32"
   ]
  },
  {
   "cell_type": "markdown",
   "metadata": {},
   "source": [
    "### Model Config"
   ]
  },
  {
   "cell_type": "code",
   "execution_count": 3,
   "metadata": {},
   "outputs": [],
   "source": [
    "from transformers import WhisperForConditionalGeneration\n",
    "\n",
    "model = WhisperForConditionalGeneration.from_pretrained(\"openai/whisper-small\").to(device)"
   ]
  },
  {
   "cell_type": "code",
   "execution_count": 4,
   "metadata": {},
   "outputs": [],
   "source": [
    "# included in the training\n",
    "model.config.forced_decoder_ids = None\n",
    "model.config.suppress_tokens = []\n",
    "# to use gradient checkpointing\n",
    "model.config.use_cache = False"
   ]
  },
  {
   "cell_type": "markdown",
   "metadata": {},
   "source": [
    "### Load Dataset"
   ]
  },
  {
   "cell_type": "markdown",
   "metadata": {},
   "source": [
    "#### Split Into train, test, and validation"
   ]
  },
  {
   "cell_type": "code",
   "execution_count": 5,
   "metadata": {},
   "outputs": [
    {
     "data": {
      "text/plain": [
       "DatasetDict({\n",
       "    train: Dataset({\n",
       "        features: ['path', 'audio', 'transcription', 'english_transcription', 'intent_class', 'lang_id'],\n",
       "        num_rows: 488\n",
       "    })\n",
       "    test: Dataset({\n",
       "        features: ['path', 'audio', 'transcription', 'english_transcription', 'intent_class', 'lang_id'],\n",
       "        num_rows: 62\n",
       "    })\n",
       "    valid: Dataset({\n",
       "        features: ['path', 'audio', 'transcription', 'english_transcription', 'intent_class', 'lang_id'],\n",
       "        num_rows: 61\n",
       "    })\n",
       "})"
      ]
     },
     "execution_count": 5,
     "metadata": {},
     "output_type": "execute_result"
    }
   ],
   "source": [
    "from datasets import  DatasetDict, load_dataset\n",
    "\n",
    "ds = DatasetDict()\n",
    "\n",
    "ds = load_dataset(\"PolyAI/minds14\", \"de-DE\")\n",
    "\n",
    "train_testvalid = ds['train'].train_test_split(test_size=0.2)\n",
    "# Split the 10% test + valid in half test, half valid\n",
    "test_valid = train_testvalid['test'].train_test_split(test_size=0.5)\n",
    "# gather everyone if you want to have a single DatasetDict\n",
    "ds = DatasetDict({\n",
    "    'train': train_testvalid['train'],\n",
    "    'test': test_valid['test'],\n",
    "    'valid': test_valid['train']})\n",
    "ds"
   ]
  },
  {
   "cell_type": "markdown",
   "metadata": {},
   "source": [
    "#### Assigning new dataset for validation"
   ]
  },
  {
   "cell_type": "code",
   "execution_count": 6,
   "metadata": {},
   "outputs": [],
   "source": [
    "ds2 = ds"
   ]
  },
  {
   "cell_type": "markdown",
   "metadata": {},
   "source": [
    "#### Adjust frequency and Normalization"
   ]
  },
  {
   "cell_type": "code",
   "execution_count": 7,
   "metadata": {},
   "outputs": [],
   "source": [
    "from datasets import Audio, DatasetDict, concatenate_datasets\n",
    "\n",
    "AUDIO_COLUMN_NAME = \"audio\"\n",
    "TEXT_COLUMN_NAME = \"transcription\"\n",
    "\n",
    "\n",
    "def normalize_dataset(ds, audio_column_name=None, text_column_name=None):\n",
    "    if audio_column_name is not None and audio_column_name != AUDIO_COLUMN_NAME:\n",
    "        ds = ds.rename_column(audio_column_name, AUDIO_COLUMN_NAME)\n",
    "    if text_column_name is not None and text_column_name != TEXT_COLUMN_NAME:\n",
    "        ds = ds.rename_column(text_column_name, TEXT_COLUMN_NAME)\n",
    "    # resample to the same sampling rate\n",
    "    ds = ds.cast_column(\"audio\", Audio(sampling_rate=16_000))\n",
    "    # normalise columns to [\"audio\", \"sentence\"]\n",
    "    ds = ds.remove_columns(set(ds.features.keys()) - set([AUDIO_COLUMN_NAME, TEXT_COLUMN_NAME]))\n",
    "    return ds\n",
    "\n",
    "raw_datasets = DatasetDict()\n",
    "\n",
    "ds['train'] = normalize_dataset(ds['train'])\n",
    "ds['test'] = normalize_dataset(ds['test'])\n",
    "ds['valid'] = normalize_dataset(ds['valid'])"
   ]
  },
  {
   "cell_type": "markdown",
   "metadata": {},
   "source": [
    "#### Augmentation in data train "
   ]
  },
  {
   "cell_type": "code",
   "execution_count": 8,
   "metadata": {},
   "outputs": [],
   "source": [
    "from audiomentations import (\n",
    "    AddBackgroundNoise,\n",
    "    AddGaussianNoise,\n",
    "    Compose,\n",
    "    Gain,\n",
    "    OneOf,\n",
    "    PitchShift,\n",
    "    PolarityInversion,\n",
    "    TimeStretch,\n",
    ")\n",
    "\n",
    "BASE_PATH = \"./MInDS-14/audio\"\n",
    "\n",
    "# define augmentation\n",
    "augmentation = Compose(\n",
    "    [\n",
    "        TimeStretch(min_rate=0.9, max_rate=1.1, p=0.2, leave_length_unchanged=False),\n",
    "        Gain(min_gain_in_db=-6, max_gain_in_db=6, p=0.1),\n",
    "        PitchShift(min_semitones=-4, max_semitones=4, p=0.2),\n",
    "        OneOf(\n",
    "            [\n",
    "                AddBackgroundNoise(sounds_path=BASE_PATH, min_snr_in_db=1.0, max_snr_in_db=5.0, noise_transform=PolarityInversion(), p=1.0),\n",
    "                AddGaussianNoise(min_amplitude=0.005, max_amplitude=0.015, p=1.0),\n",
    "            ],\n",
    "            p=0.2,\n",
    "        ),\n",
    "    ]\n",
    ")\n",
    "\n",
    "\n",
    "def augment_dataset(batch):\n",
    "    # load and (possibly) resample audio data to 16kHz\n",
    "    sample = batch[AUDIO_COLUMN_NAME]\n",
    "\n",
    "    # apply augmentation\n",
    "    augmented_waveform = augmentation(sample[\"array\"], sample_rate=sample[\"sampling_rate\"])\n",
    "    batch[AUDIO_COLUMN_NAME][\"array\"] = augmented_waveform\n",
    "    return batch"
   ]
  },
  {
   "cell_type": "markdown",
   "metadata": {},
   "source": [
    "#### Check the length 1st!"
   ]
  },
  {
   "cell_type": "code",
   "execution_count": 9,
   "metadata": {},
   "outputs": [
    {
     "data": {
      "text/plain": [
       "Dataset({\n",
       "    features: ['audio', 'transcription'],\n",
       "    num_rows: 488\n",
       "})"
      ]
     },
     "execution_count": 9,
     "metadata": {},
     "output_type": "execute_result"
    }
   ],
   "source": [
    "ds['train']"
   ]
  },
  {
   "cell_type": "markdown",
   "metadata": {},
   "source": [
    "#### Agument and Add into existing(now we have 976 instead 488 train data!)"
   ]
  },
  {
   "cell_type": "code",
   "execution_count": 10,
   "metadata": {},
   "outputs": [
    {
     "name": "stderr",
     "output_type": "stream",
     "text": [
      "augment train dataset (num_proc=4): 100%|██████████| 488/488 [00:12<00:00, 37.84 examples/s] \n"
     ]
    }
   ],
   "source": [
    "# augment training data\n",
    "augmented_ds = ds[\"train\"].map(\n",
    "    augment_dataset, num_proc=4, desc=\"augment train dataset\"\n",
    ")\n",
    "\n",
    "# combine\n",
    "ds[\"train\"] = concatenate_datasets([ds[\"train\"], augmented_ds])\n",
    "ds[\"train\"] = ds[\"train\"].shuffle(seed=10)"
   ]
  },
  {
   "cell_type": "code",
   "execution_count": 11,
   "metadata": {},
   "outputs": [
    {
     "data": {
      "text/plain": [
       "Dataset({\n",
       "    features: ['audio', 'transcription'],\n",
       "    num_rows: 976\n",
       "})"
      ]
     },
     "execution_count": 11,
     "metadata": {},
     "output_type": "execute_result"
    }
   ],
   "source": [
    "ds['train']"
   ]
  },
  {
   "cell_type": "markdown",
   "metadata": {},
   "source": [
    "### Prepare dataset!"
   ]
  },
  {
   "cell_type": "code",
   "execution_count": 12,
   "metadata": {},
   "outputs": [],
   "source": [
    "from transformers.models.whisper.english_normalizer import BasicTextNormalizer ## Basic Text normalizer is multilingual\n",
    " \n",
    "normalizer = BasicTextNormalizer()"
   ]
  },
  {
   "cell_type": "code",
   "execution_count": 13,
   "metadata": {},
   "outputs": [],
   "source": [
    "from transformers import WhisperProcessor, WhisperFeatureExtractor, WhisperTokenizer\n",
    "\n",
    "processor = WhisperProcessor.from_pretrained(\"openai/whisper-small\", language=\"german\", task=\"transcribe\")\n",
    "feature_extractor = WhisperFeatureExtractor.from_pretrained(\"openai/whisper-small\")\n",
    "tokenizer = WhisperTokenizer.from_pretrained(\"openai/whisper-small\", language=\"german\", task=\"transcribe\")"
   ]
  },
  {
   "cell_type": "code",
   "execution_count": 14,
   "metadata": {},
   "outputs": [],
   "source": [
    "do_normalize_text = True\n",
    "\n",
    "\n",
    "def prepare_dataset(batch):\n",
    "    # load\n",
    "    audio = batch[AUDIO_COLUMN_NAME]\n",
    "    # compute log-Mel input features from input audio array\n",
    "    batch[\"input_features\"] = processor.feature_extractor(audio[\"array\"], sampling_rate=audio[\"sampling_rate\"]).input_features[0]\n",
    "    # compute input length of audio sample in seconds\n",
    "    batch[\"input_length\"] = len(audio[\"array\"]) / audio[\"sampling_rate\"]\n",
    "\n",
    "    # process targets\n",
    "    input_str = normalizer(batch[TEXT_COLUMN_NAME]).strip() if do_normalize_text else batch[TEXT_COLUMN_NAME]\n",
    "    # encode target text to label ids\n",
    "    batch[\"labels\"] = processor.tokenizer(input_str).input_ids\n",
    "\n",
    "    return batch"
   ]
  },
  {
   "cell_type": "code",
   "execution_count": 15,
   "metadata": {},
   "outputs": [
    {
     "name": "stderr",
     "output_type": "stream",
     "text": [
      "preprocess dataset (num_proc=4): 100%|██████████| 976/976 [00:02<00:00, 387.13 examples/s]\n",
      "preprocess dataset (num_proc=4): 100%|██████████| 62/62 [00:00<00:00, 82.25 examples/s]\n",
      "preprocess dataset (num_proc=4): 100%|██████████| 61/61 [00:00<00:00, 82.99 examples/s]\n"
     ]
    }
   ],
   "source": [
    "vectorized_datasets = ds.map(\n",
    "    prepare_dataset,\n",
    "    num_proc=4,\n",
    "    remove_columns=next(iter(ds.values())).column_names,\n",
    "    desc=\"preprocess dataset\",\n",
    ")"
   ]
  },
  {
   "cell_type": "markdown",
   "metadata": {},
   "source": [
    "#### Filter dataset by input length for get balance distribution"
   ]
  },
  {
   "cell_type": "code",
   "execution_count": 16,
   "metadata": {},
   "outputs": [],
   "source": [
    "max_input_length = 30\n",
    "min_input_length = 0\n",
    "\n",
    "\n",
    "def is_audio_in_length_range(length):\n",
    "    return length > min_input_length and length < max_input_length"
   ]
  },
  {
   "cell_type": "code",
   "execution_count": 17,
   "metadata": {},
   "outputs": [
    {
     "name": "stderr",
     "output_type": "stream",
     "text": [
      "Filter (num_proc=4): 100%|██████████| 976/976 [00:00<00:00, 10916.49 examples/s]\n",
      "Filter (num_proc=4): 100%|██████████| 62/62 [00:00<00:00, 713.05 examples/s]\n",
      "Filter (num_proc=4): 100%|██████████| 61/61 [00:00<00:00, 570.28 examples/s]\n"
     ]
    }
   ],
   "source": [
    "vectorized_datasets = vectorized_datasets.filter(\n",
    "    is_audio_in_length_range, num_proc=4, input_columns=[\"input_length\"]\n",
    ")"
   ]
  },
  {
   "cell_type": "code",
   "execution_count": 18,
   "metadata": {},
   "outputs": [],
   "source": [
    "max_label_length = model.config.max_length\n",
    "\n",
    "\n",
    "def is_labels_in_length_range(labels):\n",
    "    return len(labels) < max_label_length"
   ]
  },
  {
   "cell_type": "code",
   "execution_count": 19,
   "metadata": {},
   "outputs": [
    {
     "name": "stderr",
     "output_type": "stream",
     "text": [
      "Filter (num_proc=4): 100%|██████████| 972/972 [00:00<00:00, 10352.52 examples/s]\n",
      "Filter (num_proc=4): 100%|██████████| 60/60 [00:00<00:00, 690.09 examples/s]\n",
      "Filter (num_proc=4): 100%|██████████| 59/59 [00:00<00:00, 675.46 examples/s]\n"
     ]
    }
   ],
   "source": [
    "vectorized_datasets = vectorized_datasets.filter(\n",
    "    is_labels_in_length_range, num_proc=4, input_columns=[\"labels\"]\n",
    ")"
   ]
  },
  {
   "cell_type": "markdown",
   "metadata": {},
   "source": [
    "### Initialize Data Colator"
   ]
  },
  {
   "cell_type": "code",
   "execution_count": 20,
   "metadata": {},
   "outputs": [],
   "source": [
    "from dataclasses import dataclass\n",
    "from typing import Any, Dict, List, Union\n",
    "\n",
    "import torch\n",
    "\n",
    "\n",
    "@dataclass\n",
    "class DataCollatorSpeechSeq2SeqWithPadding:\n",
    "    processor: Any\n",
    "\n",
    "    def __call__(self, features: List[Dict[str, Union[List[int], torch.Tensor]]]) -> Dict[str, torch.Tensor]:\n",
    "        input_features = [{\"input_features\": feature[\"input_features\"]} for feature in features]\n",
    "        # convert to tensors\n",
    "        batch = self.processor.feature_extractor.pad(input_features, return_tensors=\"pt\")\n",
    "\n",
    "        label_features = [{\"input_ids\": feature[\"labels\"]} for feature in features]\n",
    "        # pad label ids to the max length in the batch\n",
    "        labels_batch = self.processor.tokenizer.pad(label_features, return_tensors=\"pt\")\n",
    "\n",
    "        # replace padding with -100 to ignore loss correctly\n",
    "        labels = labels_batch[\"input_ids\"].masked_fill(labels_batch.attention_mask.ne(1), -100)\n",
    "\n",
    "        # if bos token is appended in previous tokenization step,\n",
    "        # cut bos token here as it's append later anyways\n",
    "        if (labels[:, 0] == self.processor.tokenizer.bos_token_id).all().cpu().item():\n",
    "            labels = labels[:, 1:]\n",
    "\n",
    "        batch[\"labels\"] = labels\n",
    "\n",
    "        return batch"
   ]
  },
  {
   "cell_type": "code",
   "execution_count": 21,
   "metadata": {},
   "outputs": [],
   "source": [
    "data_collator = DataCollatorSpeechSeq2SeqWithPadding(processor=processor)"
   ]
  },
  {
   "cell_type": "markdown",
   "metadata": {},
   "source": [
    "### Define Metrics (WER)"
   ]
  },
  {
   "cell_type": "code",
   "execution_count": 22,
   "metadata": {},
   "outputs": [],
   "source": [
    "import evaluate\n",
    "\n",
    "metric = evaluate.load(\"wer\")"
   ]
  },
  {
   "cell_type": "code",
   "execution_count": 23,
   "metadata": {},
   "outputs": [],
   "source": [
    "# evaluate with the 'normalized' WER\n",
    "do_normalize_eval = True\n",
    "\n",
    "\n",
    "def compute_metrics(pred):\n",
    "    pred_ids = pred.predictions\n",
    "    label_ids = pred.label_ids\n",
    "\n",
    "    # replace -100 with the pad_token_id\n",
    "    label_ids[label_ids == -100] = tokenizer.pad_token_id\n",
    "\n",
    "    # we do not want to group tokens when computing the metrics\n",
    "    pred_str = tokenizer.batch_decode(pred_ids, skip_special_tokens=True)\n",
    "    label_str = tokenizer.batch_decode(label_ids, skip_special_tokens=True)\n",
    "\n",
    "    if do_normalize_eval:\n",
    "        pred_str = [normalizer(pred) for pred in pred_str]\n",
    "        # perhaps already normalised\n",
    "        label_str = [normalizer(label) for label in label_str]\n",
    "        # filtering step to only evaluate the samples that correspond to non-zero references\n",
    "        pred_str = [pred_str[i] for i in range(len(pred_str)) if len(label_str[i]) > 0]\n",
    "        label_str = [label_str[i] for i in range(len(label_str)) if len(label_str[i]) > 0]\n",
    "\n",
    "    wer = metric.compute(predictions=pred_str, references=label_str)\n",
    "\n",
    "    return {\"wer\": wer}"
   ]
  },
  {
   "cell_type": "markdown",
   "metadata": {},
   "source": [
    "### Training args & Phase"
   ]
  },
  {
   "cell_type": "code",
   "execution_count": 24,
   "metadata": {},
   "outputs": [],
   "source": [
    "from transformers import Seq2SeqTrainingArguments\n",
    "\n",
    "training_args = Seq2SeqTrainingArguments(\n",
    "    output_dir=\"./whisper-small-ger-lr6.25-adv\",\n",
    "    per_device_train_batch_size=8, \n",
    "    per_device_eval_batch_size=8, \n",
    "    gradient_accumulation_steps=4,\n",
    "    warmup_steps=4,\n",
    "    max_steps=122,\n",
    "    learning_rate=6.25e-6, \n",
    "    weight_decay=0.01, \n",
    "    gradient_checkpointing=True, \n",
    "    predict_with_generate=True, \n",
    "    generation_max_length=225, \n",
    "    logging_steps=8, \n",
    "    evaluation_strategy=\"steps\",\n",
    "    eval_steps=8,\n",
    "    save_strategy=\"steps\", \n",
    "    save_steps=8,\n",
    "    load_best_model_at_end=True,\n",
    "    metric_for_best_model=\"wer\",\n",
    "    greater_is_better=False,\n",
    ")\n"
   ]
  },
  {
   "cell_type": "code",
   "execution_count": 25,
   "metadata": {},
   "outputs": [
    {
     "name": "stderr",
     "output_type": "stream",
     "text": [
      "max_steps is given, it will override any value given in num_train_epochs\n"
     ]
    }
   ],
   "source": [
    "from transformers import Seq2SeqTrainer\n",
    "\n",
    "trainer = Seq2SeqTrainer(\n",
    "    model=model,\n",
    "    args=training_args,\n",
    "    train_dataset=vectorized_datasets[\"train\"],\n",
    "    eval_dataset=vectorized_datasets[\"valid\"],\n",
    "    tokenizer=processor,\n",
    "    data_collator=data_collator,\n",
    "    compute_metrics=compute_metrics,\n",
    ")"
   ]
  },
  {
   "cell_type": "code",
   "execution_count": 26,
   "metadata": {},
   "outputs": [
    {
     "name": "stderr",
     "output_type": "stream",
     "text": [
      "  7%|▋         | 8/122 [03:15<48:13, 25.38s/it]"
     ]
    },
    {
     "name": "stdout",
     "output_type": "stream",
     "text": [
      "{'loss': 2.983, 'grad_norm': 16.955373764038086, 'learning_rate': 6.038135593220339e-06, 'epoch': 0.26}\n"
     ]
    },
    {
     "name": "stderr",
     "output_type": "stream",
     "text": [
      "Due to a bug fix in https://github.com/huggingface/transformers/pull/28687 transcription using a multilingual Whisper will default to language detection followed by transcription instead of translation to English.This might be a breaking change for your use case. If you want to instead always translate your audio to English, make sure to pass `language='en'`.\n",
      "The attention mask is not set and cannot be inferred from input because pad token is same as eos token.As a consequence, you may observe unexpected behavior. Please pass your input's `attention_mask` to obtain reliable results.\n",
      "                                               \n",
      "  7%|▋         | 8/122 [04:22<48:13, 25.38s/it]Some non-default generation parameters are set in the model config. These should go into a GenerationConfig file (https://huggingface.co/docs/transformers/generation_strategies#save-a-custom-decoding-strategy-with-your-model) instead. This warning will be raised to an exception in v4.41.\n",
      "Non-default generation parameters: {'max_length': 448, 'suppress_tokens': [], 'begin_suppress_tokens': [220, 50257]}\n"
     ]
    },
    {
     "name": "stdout",
     "output_type": "stream",
     "text": [
      "{'eval_loss': 2.211230754852295, 'eval_wer': 0.17956349206349206, 'eval_runtime': 67.7924, 'eval_samples_per_second': 0.87, 'eval_steps_per_second': 0.118, 'epoch': 0.26}\n"
     ]
    },
    {
     "name": "stderr",
     "output_type": "stream",
     "text": [
      " 13%|█▎        | 16/122 [07:41<45:14, 25.61s/it]  "
     ]
    },
    {
     "name": "stdout",
     "output_type": "stream",
     "text": [
      "{'loss': 1.9228, 'grad_norm': 15.038456916809082, 'learning_rate': 5.614406779661018e-06, 'epoch': 0.52}\n"
     ]
    },
    {
     "name": "stderr",
     "output_type": "stream",
     "text": [
      "                                                \n",
      " 13%|█▎        | 16/122 [09:59<45:14, 25.61s/it]Some non-default generation parameters are set in the model config. These should go into a GenerationConfig file (https://huggingface.co/docs/transformers/generation_strategies#save-a-custom-decoding-strategy-with-your-model) instead. This warning will be raised to an exception in v4.41.\n",
      "Non-default generation parameters: {'max_length': 448, 'suppress_tokens': [], 'begin_suppress_tokens': [220, 50257]}\n"
     ]
    },
    {
     "name": "stdout",
     "output_type": "stream",
     "text": [
      "{'eval_loss': 1.5825867652893066, 'eval_wer': 1.0952380952380953, 'eval_runtime': 137.5801, 'eval_samples_per_second': 0.429, 'eval_steps_per_second': 0.058, 'epoch': 0.52}\n"
     ]
    },
    {
     "name": "stderr",
     "output_type": "stream",
     "text": [
      " 20%|█▉        | 24/122 [13:19<44:24, 27.19s/it]  "
     ]
    },
    {
     "name": "stdout",
     "output_type": "stream",
     "text": [
      "{'loss': 1.3936, 'grad_norm': 11.334648132324219, 'learning_rate': 5.190677966101695e-06, 'epoch': 0.79}\n"
     ]
    },
    {
     "name": "stderr",
     "output_type": "stream",
     "text": [
      "                                                \n",
      " 20%|█▉        | 24/122 [15:41<44:24, 27.19s/it]Some non-default generation parameters are set in the model config. These should go into a GenerationConfig file (https://huggingface.co/docs/transformers/generation_strategies#save-a-custom-decoding-strategy-with-your-model) instead. This warning will be raised to an exception in v4.41.\n",
      "Non-default generation parameters: {'max_length': 448, 'suppress_tokens': [], 'begin_suppress_tokens': [220, 50257]}\n"
     ]
    },
    {
     "name": "stdout",
     "output_type": "stream",
     "text": [
      "{'eval_loss': 1.0462669134140015, 'eval_wer': 1.1845238095238095, 'eval_runtime': 142.1265, 'eval_samples_per_second': 0.415, 'eval_steps_per_second': 0.056, 'epoch': 0.79}\n"
     ]
    },
    {
     "name": "stderr",
     "output_type": "stream",
     "text": [
      " 26%|██▌       | 32/122 [18:50<40:16, 26.85s/it]  "
     ]
    },
    {
     "name": "stdout",
     "output_type": "stream",
     "text": [
      "{'loss': 0.9704, 'grad_norm': 9.35204029083252, 'learning_rate': 4.766949152542373e-06, 'epoch': 1.05}\n"
     ]
    },
    {
     "name": "stderr",
     "output_type": "stream",
     "text": [
      "                                                \n",
      " 26%|██▌       | 32/122 [22:03<40:16, 26.85s/it]Some non-default generation parameters are set in the model config. These should go into a GenerationConfig file (https://huggingface.co/docs/transformers/generation_strategies#save-a-custom-decoding-strategy-with-your-model) instead. This warning will be raised to an exception in v4.41.\n",
      "Non-default generation parameters: {'max_length': 448, 'suppress_tokens': [], 'begin_suppress_tokens': [220, 50257]}\n"
     ]
    },
    {
     "name": "stdout",
     "output_type": "stream",
     "text": [
      "{'eval_loss': 0.9536905288696289, 'eval_wer': 2.3660714285714284, 'eval_runtime': 193.6582, 'eval_samples_per_second': 0.305, 'eval_steps_per_second': 0.041, 'epoch': 1.05}\n"
     ]
    },
    {
     "name": "stderr",
     "output_type": "stream",
     "text": [
      " 33%|███▎      | 40/122 [25:17<38:54, 28.47s/it]  "
     ]
    },
    {
     "name": "stdout",
     "output_type": "stream",
     "text": [
      "{'loss': 0.8859, 'grad_norm': 9.82310676574707, 'learning_rate': 4.343220338983051e-06, 'epoch': 1.31}\n"
     ]
    },
    {
     "name": "stderr",
     "output_type": "stream",
     "text": [
      "                                                \n",
      " 33%|███▎      | 40/122 [28:21<38:54, 28.47s/it]Some non-default generation parameters are set in the model config. These should go into a GenerationConfig file (https://huggingface.co/docs/transformers/generation_strategies#save-a-custom-decoding-strategy-with-your-model) instead. This warning will be raised to an exception in v4.41.\n",
      "Non-default generation parameters: {'max_length': 448, 'suppress_tokens': [], 'begin_suppress_tokens': [220, 50257]}\n"
     ]
    },
    {
     "name": "stdout",
     "output_type": "stream",
     "text": [
      "{'eval_loss': 0.9046236276626587, 'eval_wer': 2.453373015873016, 'eval_runtime': 183.436, 'eval_samples_per_second': 0.322, 'eval_steps_per_second': 0.044, 'epoch': 1.31}\n"
     ]
    },
    {
     "name": "stderr",
     "output_type": "stream",
     "text": [
      " 39%|███▉      | 48/122 [31:34<35:08, 28.49s/it]  "
     ]
    },
    {
     "name": "stdout",
     "output_type": "stream",
     "text": [
      "{'loss': 0.7572, 'grad_norm': 8.358237266540527, 'learning_rate': 3.919491525423729e-06, 'epoch': 1.57}\n"
     ]
    },
    {
     "name": "stderr",
     "output_type": "stream",
     "text": [
      "                                                \n",
      " 39%|███▉      | 48/122 [34:37<35:08, 28.49s/it]Some non-default generation parameters are set in the model config. These should go into a GenerationConfig file (https://huggingface.co/docs/transformers/generation_strategies#save-a-custom-decoding-strategy-with-your-model) instead. This warning will be raised to an exception in v4.41.\n",
      "Non-default generation parameters: {'max_length': 448, 'suppress_tokens': [], 'begin_suppress_tokens': [220, 50257]}\n"
     ]
    },
    {
     "name": "stdout",
     "output_type": "stream",
     "text": [
      "{'eval_loss': 0.86468905210495, 'eval_wer': 2.427579365079365, 'eval_runtime': 183.2126, 'eval_samples_per_second': 0.322, 'eval_steps_per_second': 0.044, 'epoch': 1.57}\n"
     ]
    },
    {
     "name": "stderr",
     "output_type": "stream",
     "text": [
      " 46%|████▌     | 56/122 [37:50<31:18, 28.46s/it]  "
     ]
    },
    {
     "name": "stdout",
     "output_type": "stream",
     "text": [
      "{'loss': 0.7469, 'grad_norm': 10.324573516845703, 'learning_rate': 3.495762711864407e-06, 'epoch': 1.84}\n"
     ]
    },
    {
     "name": "stderr",
     "output_type": "stream",
     "text": [
      "                                                \n",
      " 46%|████▌     | 56/122 [41:05<31:18, 28.46s/it]Some non-default generation parameters are set in the model config. These should go into a GenerationConfig file (https://huggingface.co/docs/transformers/generation_strategies#save-a-custom-decoding-strategy-with-your-model) instead. This warning will be raised to an exception in v4.41.\n",
      "Non-default generation parameters: {'max_length': 448, 'suppress_tokens': [], 'begin_suppress_tokens': [220, 50257]}\n"
     ]
    },
    {
     "name": "stdout",
     "output_type": "stream",
     "text": [
      "{'eval_loss': 0.8293108940124512, 'eval_wer': 2.7281746031746033, 'eval_runtime': 195.1305, 'eval_samples_per_second': 0.302, 'eval_steps_per_second': 0.041, 'epoch': 1.84}\n"
     ]
    },
    {
     "name": "stderr",
     "output_type": "stream",
     "text": [
      " 52%|█████▏    | 64/122 [44:16<27:40, 28.63s/it]  "
     ]
    },
    {
     "name": "stdout",
     "output_type": "stream",
     "text": [
      "{'loss': 0.6778, 'grad_norm': 7.780063629150391, 'learning_rate': 3.072033898305085e-06, 'epoch': 2.1}\n"
     ]
    },
    {
     "name": "stderr",
     "output_type": "stream",
     "text": [
      "                                                \n",
      " 52%|█████▏    | 64/122 [47:31<27:40, 28.63s/it]Some non-default generation parameters are set in the model config. These should go into a GenerationConfig file (https://huggingface.co/docs/transformers/generation_strategies#save-a-custom-decoding-strategy-with-your-model) instead. This warning will be raised to an exception in v4.41.\n",
      "Non-default generation parameters: {'max_length': 448, 'suppress_tokens': [], 'begin_suppress_tokens': [220, 50257]}\n"
     ]
    },
    {
     "name": "stdout",
     "output_type": "stream",
     "text": [
      "{'eval_loss': 0.8081901669502258, 'eval_wer': 2.818452380952381, 'eval_runtime': 195.1293, 'eval_samples_per_second': 0.302, 'eval_steps_per_second': 0.041, 'epoch': 2.1}\n"
     ]
    },
    {
     "name": "stderr",
     "output_type": "stream",
     "text": [
      " 59%|█████▉    | 72/122 [50:43<23:50, 28.61s/it]  "
     ]
    },
    {
     "name": "stdout",
     "output_type": "stream",
     "text": [
      "{'loss': 0.5932, 'grad_norm': 8.67540454864502, 'learning_rate': 2.648305084745763e-06, 'epoch': 2.36}\n"
     ]
    },
    {
     "name": "stderr",
     "output_type": "stream",
     "text": [
      "                                                \n",
      " 59%|█████▉    | 72/122 [53:58<23:50, 28.61s/it]Some non-default generation parameters are set in the model config. These should go into a GenerationConfig file (https://huggingface.co/docs/transformers/generation_strategies#save-a-custom-decoding-strategy-with-your-model) instead. This warning will be raised to an exception in v4.41.\n",
      "Non-default generation parameters: {'max_length': 448, 'suppress_tokens': [], 'begin_suppress_tokens': [220, 50257]}\n"
     ]
    },
    {
     "name": "stdout",
     "output_type": "stream",
     "text": [
      "{'eval_loss': 0.7917385101318359, 'eval_wer': 2.8680555555555554, 'eval_runtime': 195.1961, 'eval_samples_per_second': 0.302, 'eval_steps_per_second': 0.041, 'epoch': 2.36}\n"
     ]
    },
    {
     "name": "stderr",
     "output_type": "stream",
     "text": [
      " 66%|██████▌   | 80/122 [57:09<19:55, 28.47s/it]  "
     ]
    },
    {
     "name": "stdout",
     "output_type": "stream",
     "text": [
      "{'loss': 0.5879, 'grad_norm': 8.530070304870605, 'learning_rate': 2.2245762711864407e-06, 'epoch': 2.62}\n"
     ]
    },
    {
     "name": "stderr",
     "output_type": "stream",
     "text": [
      "                                                \n",
      " 66%|██████▌   | 80/122 [1:00:24<19:55, 28.47s/it]Some non-default generation parameters are set in the model config. These should go into a GenerationConfig file (https://huggingface.co/docs/transformers/generation_strategies#save-a-custom-decoding-strategy-with-your-model) instead. This warning will be raised to an exception in v4.41.\n",
      "Non-default generation parameters: {'max_length': 448, 'suppress_tokens': [], 'begin_suppress_tokens': [220, 50257]}\n"
     ]
    },
    {
     "name": "stdout",
     "output_type": "stream",
     "text": [
      "{'eval_loss': 0.775465726852417, 'eval_wer': 2.7668650793650795, 'eval_runtime': 195.4123, 'eval_samples_per_second': 0.302, 'eval_steps_per_second': 0.041, 'epoch': 2.62}\n"
     ]
    },
    {
     "name": "stderr",
     "output_type": "stream",
     "text": [
      " 72%|███████▏  | 88/122 [1:03:34<16:08, 28.49s/it]"
     ]
    },
    {
     "name": "stdout",
     "output_type": "stream",
     "text": [
      "{'loss': 0.5968, 'grad_norm': 9.402825355529785, 'learning_rate': 1.8008474576271187e-06, 'epoch': 2.89}\n"
     ]
    },
    {
     "name": "stderr",
     "output_type": "stream",
     "text": [
      "                                                  \n",
      " 72%|███████▏  | 88/122 [1:06:50<16:08, 28.49s/it]Some non-default generation parameters are set in the model config. These should go into a GenerationConfig file (https://huggingface.co/docs/transformers/generation_strategies#save-a-custom-decoding-strategy-with-your-model) instead. This warning will be raised to an exception in v4.41.\n",
      "Non-default generation parameters: {'max_length': 448, 'suppress_tokens': [], 'begin_suppress_tokens': [220, 50257]}\n"
     ]
    },
    {
     "name": "stdout",
     "output_type": "stream",
     "text": [
      "{'eval_loss': 0.762309193611145, 'eval_wer': 2.640873015873016, 'eval_runtime': 195.7048, 'eval_samples_per_second': 0.301, 'eval_steps_per_second': 0.041, 'epoch': 2.89}\n"
     ]
    },
    {
     "name": "stderr",
     "output_type": "stream",
     "text": [
      " 79%|███████▊  | 96/122 [1:09:58<12:10, 28.10s/it]"
     ]
    },
    {
     "name": "stdout",
     "output_type": "stream",
     "text": [
      "{'loss': 0.5491, 'grad_norm': 9.611059188842773, 'learning_rate': 1.3771186440677967e-06, 'epoch': 3.15}\n"
     ]
    },
    {
     "name": "stderr",
     "output_type": "stream",
     "text": [
      "                                                  \n",
      " 79%|███████▊  | 96/122 [1:13:13<12:10, 28.10s/it]Some non-default generation parameters are set in the model config. These should go into a GenerationConfig file (https://huggingface.co/docs/transformers/generation_strategies#save-a-custom-decoding-strategy-with-your-model) instead. This warning will be raised to an exception in v4.41.\n",
      "Non-default generation parameters: {'max_length': 448, 'suppress_tokens': [], 'begin_suppress_tokens': [220, 50257]}\n"
     ]
    },
    {
     "name": "stdout",
     "output_type": "stream",
     "text": [
      "{'eval_loss': 0.7546915411949158, 'eval_wer': 2.507936507936508, 'eval_runtime': 195.1232, 'eval_samples_per_second': 0.302, 'eval_steps_per_second': 0.041, 'epoch': 3.15}\n"
     ]
    },
    {
     "name": "stderr",
     "output_type": "stream",
     "text": [
      " 85%|████████▌ | 104/122 [1:16:25<08:34, 28.60s/it]"
     ]
    },
    {
     "name": "stdout",
     "output_type": "stream",
     "text": [
      "{'loss': 0.4959, 'grad_norm': 7.619028091430664, 'learning_rate': 9.533898305084747e-07, 'epoch': 3.41}\n"
     ]
    },
    {
     "name": "stderr",
     "output_type": "stream",
     "text": [
      "                                                   \n",
      " 85%|████████▌ | 104/122 [1:19:40<08:34, 28.60s/it]Some non-default generation parameters are set in the model config. These should go into a GenerationConfig file (https://huggingface.co/docs/transformers/generation_strategies#save-a-custom-decoding-strategy-with-your-model) instead. This warning will be raised to an exception in v4.41.\n",
      "Non-default generation parameters: {'max_length': 448, 'suppress_tokens': [], 'begin_suppress_tokens': [220, 50257]}\n"
     ]
    },
    {
     "name": "stdout",
     "output_type": "stream",
     "text": [
      "{'eval_loss': 0.7489808201789856, 'eval_wer': 2.419642857142857, 'eval_runtime': 194.9033, 'eval_samples_per_second': 0.303, 'eval_steps_per_second': 0.041, 'epoch': 3.41}\n"
     ]
    },
    {
     "name": "stderr",
     "output_type": "stream",
     "text": [
      " 92%|█████████▏| 112/122 [1:22:51<04:43, 28.34s/it]"
     ]
    },
    {
     "name": "stdout",
     "output_type": "stream",
     "text": [
      "{'loss': 0.4853, 'grad_norm': 7.708927631378174, 'learning_rate': 5.296610169491525e-07, 'epoch': 3.67}\n"
     ]
    },
    {
     "name": "stderr",
     "output_type": "stream",
     "text": [
      "                                                   \n",
      " 92%|█████████▏| 112/122 [1:26:05<04:43, 28.34s/it]Some non-default generation parameters are set in the model config. These should go into a GenerationConfig file (https://huggingface.co/docs/transformers/generation_strategies#save-a-custom-decoding-strategy-with-your-model) instead. This warning will be raised to an exception in v4.41.\n",
      "Non-default generation parameters: {'max_length': 448, 'suppress_tokens': [], 'begin_suppress_tokens': [220, 50257]}\n"
     ]
    },
    {
     "name": "stdout",
     "output_type": "stream",
     "text": [
      "{'eval_loss': 0.743336021900177, 'eval_wer': 2.4057539682539684, 'eval_runtime': 194.2398, 'eval_samples_per_second': 0.304, 'eval_steps_per_second': 0.041, 'epoch': 3.67}\n"
     ]
    },
    {
     "name": "stderr",
     "output_type": "stream",
     "text": [
      " 98%|█████████▊| 120/122 [1:29:19<00:57, 28.86s/it]"
     ]
    },
    {
     "name": "stdout",
     "output_type": "stream",
     "text": [
      "{'loss': 0.5301, 'grad_norm': 8.639152526855469, 'learning_rate': 1.0593220338983051e-07, 'epoch': 3.93}\n"
     ]
    },
    {
     "name": "stderr",
     "output_type": "stream",
     "text": [
      "                                                   \n",
      " 98%|█████████▊| 120/122 [1:32:34<00:57, 28.86s/it]Some non-default generation parameters are set in the model config. These should go into a GenerationConfig file (https://huggingface.co/docs/transformers/generation_strategies#save-a-custom-decoding-strategy-with-your-model) instead. This warning will be raised to an exception in v4.41.\n",
      "Non-default generation parameters: {'max_length': 448, 'suppress_tokens': [], 'begin_suppress_tokens': [220, 50257]}\n"
     ]
    },
    {
     "name": "stdout",
     "output_type": "stream",
     "text": [
      "{'eval_loss': 0.7405820488929749, 'eval_wer': 2.3978174603174605, 'eval_runtime': 195.1298, 'eval_samples_per_second': 0.302, 'eval_steps_per_second': 0.041, 'epoch': 3.93}\n"
     ]
    },
    {
     "name": "stderr",
     "output_type": "stream",
     "text": [
      "100%|██████████| 122/122 [1:33:24<00:00, 67.50s/it]Some non-default generation parameters are set in the model config. These should go into a GenerationConfig file (https://huggingface.co/docs/transformers/generation_strategies#save-a-custom-decoding-strategy-with-your-model) instead. This warning will be raised to an exception in v4.41.\n",
      "Non-default generation parameters: {'max_length': 448, 'suppress_tokens': [], 'begin_suppress_tokens': [220, 50257]}\n",
      "There were missing keys in the checkpoint model loaded: ['proj_out.weight'].\n",
      "100%|██████████| 122/122 [1:33:29<00:00, 45.98s/it]"
     ]
    },
    {
     "name": "stdout",
     "output_type": "stream",
     "text": [
      "{'train_runtime': 5609.8744, 'train_samples_per_second': 0.696, 'train_steps_per_second': 0.022, 'train_loss': 0.9373875670745725, 'epoch': 4.0}\n"
     ]
    },
    {
     "name": "stderr",
     "output_type": "stream",
     "text": [
      "\n"
     ]
    },
    {
     "data": {
      "text/plain": [
       "TrainOutput(global_step=122, training_loss=0.9373875670745725, metrics={'train_runtime': 5609.8744, 'train_samples_per_second': 0.696, 'train_steps_per_second': 0.022, 'total_flos': 1.12202003644416e+18, 'train_loss': 0.9373875670745725, 'epoch': 4.0})"
      ]
     },
     "execution_count": 26,
     "metadata": {},
     "output_type": "execute_result"
    }
   ],
   "source": [
    "trainer.train()"
   ]
  },
  {
   "cell_type": "markdown",
   "metadata": {},
   "source": [
    "### Save model for inference!"
   ]
  },
  {
   "cell_type": "code",
   "execution_count": 53,
   "metadata": {},
   "outputs": [
    {
     "name": "stderr",
     "output_type": "stream",
     "text": [
      "Some non-default generation parameters are set in the model config. These should go into a GenerationConfig file (https://huggingface.co/docs/transformers/generation_strategies#save-a-custom-decoding-strategy-with-your-model) instead. This warning will be raised to an exception in v4.41.\n",
      "Non-default generation parameters: {'max_length': 448, 'suppress_tokens': [], 'begin_suppress_tokens': [220, 50257]}\n"
     ]
    },
    {
     "data": {
      "text/plain": [
       "[]"
      ]
     },
     "execution_count": 53,
     "metadata": {},
     "output_type": "execute_result"
    }
   ],
   "source": [
    "model.save_pretrained(training_args.output_dir)\n",
    "processor.save_pretrained(training_args.output_dir)"
   ]
  },
  {
   "cell_type": "markdown",
   "metadata": {},
   "source": [
    "### Evaluate and Inference"
   ]
  },
  {
   "cell_type": "code",
   "execution_count": 28,
   "metadata": {},
   "outputs": [
    {
     "data": {
      "text/html": [
       "<div>\n",
       "<style scoped>\n",
       "    .dataframe tbody tr th:only-of-type {\n",
       "        vertical-align: middle;\n",
       "    }\n",
       "\n",
       "    .dataframe tbody tr th {\n",
       "        vertical-align: top;\n",
       "    }\n",
       "\n",
       "    .dataframe thead th {\n",
       "        text-align: right;\n",
       "    }\n",
       "</style>\n",
       "<table border=\"1\" class=\"dataframe\">\n",
       "  <thead>\n",
       "    <tr style=\"text-align: right;\">\n",
       "      <th></th>\n",
       "      <th>loss</th>\n",
       "      <th>grad_norm</th>\n",
       "      <th>learning_rate</th>\n",
       "      <th>epoch</th>\n",
       "      <th>step</th>\n",
       "      <th>eval_loss</th>\n",
       "      <th>eval_wer</th>\n",
       "      <th>eval_runtime</th>\n",
       "      <th>eval_samples_per_second</th>\n",
       "      <th>eval_steps_per_second</th>\n",
       "      <th>train_runtime</th>\n",
       "      <th>train_samples_per_second</th>\n",
       "      <th>train_steps_per_second</th>\n",
       "      <th>total_flos</th>\n",
       "      <th>train_loss</th>\n",
       "    </tr>\n",
       "  </thead>\n",
       "  <tbody>\n",
       "    <tr>\n",
       "      <th>0</th>\n",
       "      <td>2.9830</td>\n",
       "      <td>16.955374</td>\n",
       "      <td>6.038136e-06</td>\n",
       "      <td>0.262295</td>\n",
       "      <td>8</td>\n",
       "      <td>NaN</td>\n",
       "      <td>NaN</td>\n",
       "      <td>NaN</td>\n",
       "      <td>NaN</td>\n",
       "      <td>NaN</td>\n",
       "      <td>NaN</td>\n",
       "      <td>NaN</td>\n",
       "      <td>NaN</td>\n",
       "      <td>NaN</td>\n",
       "      <td>NaN</td>\n",
       "    </tr>\n",
       "    <tr>\n",
       "      <th>1</th>\n",
       "      <td>NaN</td>\n",
       "      <td>NaN</td>\n",
       "      <td>NaN</td>\n",
       "      <td>0.262295</td>\n",
       "      <td>8</td>\n",
       "      <td>2.211231</td>\n",
       "      <td>0.179563</td>\n",
       "      <td>67.7924</td>\n",
       "      <td>0.870</td>\n",
       "      <td>0.118</td>\n",
       "      <td>NaN</td>\n",
       "      <td>NaN</td>\n",
       "      <td>NaN</td>\n",
       "      <td>NaN</td>\n",
       "      <td>NaN</td>\n",
       "    </tr>\n",
       "    <tr>\n",
       "      <th>2</th>\n",
       "      <td>1.9228</td>\n",
       "      <td>15.038457</td>\n",
       "      <td>5.614407e-06</td>\n",
       "      <td>0.524590</td>\n",
       "      <td>16</td>\n",
       "      <td>NaN</td>\n",
       "      <td>NaN</td>\n",
       "      <td>NaN</td>\n",
       "      <td>NaN</td>\n",
       "      <td>NaN</td>\n",
       "      <td>NaN</td>\n",
       "      <td>NaN</td>\n",
       "      <td>NaN</td>\n",
       "      <td>NaN</td>\n",
       "      <td>NaN</td>\n",
       "    </tr>\n",
       "    <tr>\n",
       "      <th>3</th>\n",
       "      <td>NaN</td>\n",
       "      <td>NaN</td>\n",
       "      <td>NaN</td>\n",
       "      <td>0.524590</td>\n",
       "      <td>16</td>\n",
       "      <td>1.582587</td>\n",
       "      <td>1.095238</td>\n",
       "      <td>137.5801</td>\n",
       "      <td>0.429</td>\n",
       "      <td>0.058</td>\n",
       "      <td>NaN</td>\n",
       "      <td>NaN</td>\n",
       "      <td>NaN</td>\n",
       "      <td>NaN</td>\n",
       "      <td>NaN</td>\n",
       "    </tr>\n",
       "    <tr>\n",
       "      <th>4</th>\n",
       "      <td>1.3936</td>\n",
       "      <td>11.334648</td>\n",
       "      <td>5.190678e-06</td>\n",
       "      <td>0.786885</td>\n",
       "      <td>24</td>\n",
       "      <td>NaN</td>\n",
       "      <td>NaN</td>\n",
       "      <td>NaN</td>\n",
       "      <td>NaN</td>\n",
       "      <td>NaN</td>\n",
       "      <td>NaN</td>\n",
       "      <td>NaN</td>\n",
       "      <td>NaN</td>\n",
       "      <td>NaN</td>\n",
       "      <td>NaN</td>\n",
       "    </tr>\n",
       "    <tr>\n",
       "      <th>5</th>\n",
       "      <td>NaN</td>\n",
       "      <td>NaN</td>\n",
       "      <td>NaN</td>\n",
       "      <td>0.786885</td>\n",
       "      <td>24</td>\n",
       "      <td>1.046267</td>\n",
       "      <td>1.184524</td>\n",
       "      <td>142.1265</td>\n",
       "      <td>0.415</td>\n",
       "      <td>0.056</td>\n",
       "      <td>NaN</td>\n",
       "      <td>NaN</td>\n",
       "      <td>NaN</td>\n",
       "      <td>NaN</td>\n",
       "      <td>NaN</td>\n",
       "    </tr>\n",
       "    <tr>\n",
       "      <th>6</th>\n",
       "      <td>0.9704</td>\n",
       "      <td>9.352040</td>\n",
       "      <td>4.766949e-06</td>\n",
       "      <td>1.049180</td>\n",
       "      <td>32</td>\n",
       "      <td>NaN</td>\n",
       "      <td>NaN</td>\n",
       "      <td>NaN</td>\n",
       "      <td>NaN</td>\n",
       "      <td>NaN</td>\n",
       "      <td>NaN</td>\n",
       "      <td>NaN</td>\n",
       "      <td>NaN</td>\n",
       "      <td>NaN</td>\n",
       "      <td>NaN</td>\n",
       "    </tr>\n",
       "    <tr>\n",
       "      <th>7</th>\n",
       "      <td>NaN</td>\n",
       "      <td>NaN</td>\n",
       "      <td>NaN</td>\n",
       "      <td>1.049180</td>\n",
       "      <td>32</td>\n",
       "      <td>0.953691</td>\n",
       "      <td>2.366071</td>\n",
       "      <td>193.6582</td>\n",
       "      <td>0.305</td>\n",
       "      <td>0.041</td>\n",
       "      <td>NaN</td>\n",
       "      <td>NaN</td>\n",
       "      <td>NaN</td>\n",
       "      <td>NaN</td>\n",
       "      <td>NaN</td>\n",
       "    </tr>\n",
       "    <tr>\n",
       "      <th>8</th>\n",
       "      <td>0.8859</td>\n",
       "      <td>9.823107</td>\n",
       "      <td>4.343220e-06</td>\n",
       "      <td>1.311475</td>\n",
       "      <td>40</td>\n",
       "      <td>NaN</td>\n",
       "      <td>NaN</td>\n",
       "      <td>NaN</td>\n",
       "      <td>NaN</td>\n",
       "      <td>NaN</td>\n",
       "      <td>NaN</td>\n",
       "      <td>NaN</td>\n",
       "      <td>NaN</td>\n",
       "      <td>NaN</td>\n",
       "      <td>NaN</td>\n",
       "    </tr>\n",
       "    <tr>\n",
       "      <th>9</th>\n",
       "      <td>NaN</td>\n",
       "      <td>NaN</td>\n",
       "      <td>NaN</td>\n",
       "      <td>1.311475</td>\n",
       "      <td>40</td>\n",
       "      <td>0.904624</td>\n",
       "      <td>2.453373</td>\n",
       "      <td>183.4360</td>\n",
       "      <td>0.322</td>\n",
       "      <td>0.044</td>\n",
       "      <td>NaN</td>\n",
       "      <td>NaN</td>\n",
       "      <td>NaN</td>\n",
       "      <td>NaN</td>\n",
       "      <td>NaN</td>\n",
       "    </tr>\n",
       "    <tr>\n",
       "      <th>10</th>\n",
       "      <td>0.7572</td>\n",
       "      <td>8.358237</td>\n",
       "      <td>3.919492e-06</td>\n",
       "      <td>1.573770</td>\n",
       "      <td>48</td>\n",
       "      <td>NaN</td>\n",
       "      <td>NaN</td>\n",
       "      <td>NaN</td>\n",
       "      <td>NaN</td>\n",
       "      <td>NaN</td>\n",
       "      <td>NaN</td>\n",
       "      <td>NaN</td>\n",
       "      <td>NaN</td>\n",
       "      <td>NaN</td>\n",
       "      <td>NaN</td>\n",
       "    </tr>\n",
       "    <tr>\n",
       "      <th>11</th>\n",
       "      <td>NaN</td>\n",
       "      <td>NaN</td>\n",
       "      <td>NaN</td>\n",
       "      <td>1.573770</td>\n",
       "      <td>48</td>\n",
       "      <td>0.864689</td>\n",
       "      <td>2.427579</td>\n",
       "      <td>183.2126</td>\n",
       "      <td>0.322</td>\n",
       "      <td>0.044</td>\n",
       "      <td>NaN</td>\n",
       "      <td>NaN</td>\n",
       "      <td>NaN</td>\n",
       "      <td>NaN</td>\n",
       "      <td>NaN</td>\n",
       "    </tr>\n",
       "    <tr>\n",
       "      <th>12</th>\n",
       "      <td>0.7469</td>\n",
       "      <td>10.324574</td>\n",
       "      <td>3.495763e-06</td>\n",
       "      <td>1.836066</td>\n",
       "      <td>56</td>\n",
       "      <td>NaN</td>\n",
       "      <td>NaN</td>\n",
       "      <td>NaN</td>\n",
       "      <td>NaN</td>\n",
       "      <td>NaN</td>\n",
       "      <td>NaN</td>\n",
       "      <td>NaN</td>\n",
       "      <td>NaN</td>\n",
       "      <td>NaN</td>\n",
       "      <td>NaN</td>\n",
       "    </tr>\n",
       "    <tr>\n",
       "      <th>13</th>\n",
       "      <td>NaN</td>\n",
       "      <td>NaN</td>\n",
       "      <td>NaN</td>\n",
       "      <td>1.836066</td>\n",
       "      <td>56</td>\n",
       "      <td>0.829311</td>\n",
       "      <td>2.728175</td>\n",
       "      <td>195.1305</td>\n",
       "      <td>0.302</td>\n",
       "      <td>0.041</td>\n",
       "      <td>NaN</td>\n",
       "      <td>NaN</td>\n",
       "      <td>NaN</td>\n",
       "      <td>NaN</td>\n",
       "      <td>NaN</td>\n",
       "    </tr>\n",
       "    <tr>\n",
       "      <th>14</th>\n",
       "      <td>0.6778</td>\n",
       "      <td>7.780064</td>\n",
       "      <td>3.072034e-06</td>\n",
       "      <td>2.098361</td>\n",
       "      <td>64</td>\n",
       "      <td>NaN</td>\n",
       "      <td>NaN</td>\n",
       "      <td>NaN</td>\n",
       "      <td>NaN</td>\n",
       "      <td>NaN</td>\n",
       "      <td>NaN</td>\n",
       "      <td>NaN</td>\n",
       "      <td>NaN</td>\n",
       "      <td>NaN</td>\n",
       "      <td>NaN</td>\n",
       "    </tr>\n",
       "    <tr>\n",
       "      <th>15</th>\n",
       "      <td>NaN</td>\n",
       "      <td>NaN</td>\n",
       "      <td>NaN</td>\n",
       "      <td>2.098361</td>\n",
       "      <td>64</td>\n",
       "      <td>0.808190</td>\n",
       "      <td>2.818452</td>\n",
       "      <td>195.1293</td>\n",
       "      <td>0.302</td>\n",
       "      <td>0.041</td>\n",
       "      <td>NaN</td>\n",
       "      <td>NaN</td>\n",
       "      <td>NaN</td>\n",
       "      <td>NaN</td>\n",
       "      <td>NaN</td>\n",
       "    </tr>\n",
       "    <tr>\n",
       "      <th>16</th>\n",
       "      <td>0.5932</td>\n",
       "      <td>8.675405</td>\n",
       "      <td>2.648305e-06</td>\n",
       "      <td>2.360656</td>\n",
       "      <td>72</td>\n",
       "      <td>NaN</td>\n",
       "      <td>NaN</td>\n",
       "      <td>NaN</td>\n",
       "      <td>NaN</td>\n",
       "      <td>NaN</td>\n",
       "      <td>NaN</td>\n",
       "      <td>NaN</td>\n",
       "      <td>NaN</td>\n",
       "      <td>NaN</td>\n",
       "      <td>NaN</td>\n",
       "    </tr>\n",
       "    <tr>\n",
       "      <th>17</th>\n",
       "      <td>NaN</td>\n",
       "      <td>NaN</td>\n",
       "      <td>NaN</td>\n",
       "      <td>2.360656</td>\n",
       "      <td>72</td>\n",
       "      <td>0.791739</td>\n",
       "      <td>2.868056</td>\n",
       "      <td>195.1961</td>\n",
       "      <td>0.302</td>\n",
       "      <td>0.041</td>\n",
       "      <td>NaN</td>\n",
       "      <td>NaN</td>\n",
       "      <td>NaN</td>\n",
       "      <td>NaN</td>\n",
       "      <td>NaN</td>\n",
       "    </tr>\n",
       "    <tr>\n",
       "      <th>18</th>\n",
       "      <td>0.5879</td>\n",
       "      <td>8.530070</td>\n",
       "      <td>2.224576e-06</td>\n",
       "      <td>2.622951</td>\n",
       "      <td>80</td>\n",
       "      <td>NaN</td>\n",
       "      <td>NaN</td>\n",
       "      <td>NaN</td>\n",
       "      <td>NaN</td>\n",
       "      <td>NaN</td>\n",
       "      <td>NaN</td>\n",
       "      <td>NaN</td>\n",
       "      <td>NaN</td>\n",
       "      <td>NaN</td>\n",
       "      <td>NaN</td>\n",
       "    </tr>\n",
       "    <tr>\n",
       "      <th>19</th>\n",
       "      <td>NaN</td>\n",
       "      <td>NaN</td>\n",
       "      <td>NaN</td>\n",
       "      <td>2.622951</td>\n",
       "      <td>80</td>\n",
       "      <td>0.775466</td>\n",
       "      <td>2.766865</td>\n",
       "      <td>195.4123</td>\n",
       "      <td>0.302</td>\n",
       "      <td>0.041</td>\n",
       "      <td>NaN</td>\n",
       "      <td>NaN</td>\n",
       "      <td>NaN</td>\n",
       "      <td>NaN</td>\n",
       "      <td>NaN</td>\n",
       "    </tr>\n",
       "    <tr>\n",
       "      <th>20</th>\n",
       "      <td>0.5968</td>\n",
       "      <td>9.402825</td>\n",
       "      <td>1.800847e-06</td>\n",
       "      <td>2.885246</td>\n",
       "      <td>88</td>\n",
       "      <td>NaN</td>\n",
       "      <td>NaN</td>\n",
       "      <td>NaN</td>\n",
       "      <td>NaN</td>\n",
       "      <td>NaN</td>\n",
       "      <td>NaN</td>\n",
       "      <td>NaN</td>\n",
       "      <td>NaN</td>\n",
       "      <td>NaN</td>\n",
       "      <td>NaN</td>\n",
       "    </tr>\n",
       "    <tr>\n",
       "      <th>21</th>\n",
       "      <td>NaN</td>\n",
       "      <td>NaN</td>\n",
       "      <td>NaN</td>\n",
       "      <td>2.885246</td>\n",
       "      <td>88</td>\n",
       "      <td>0.762309</td>\n",
       "      <td>2.640873</td>\n",
       "      <td>195.7048</td>\n",
       "      <td>0.301</td>\n",
       "      <td>0.041</td>\n",
       "      <td>NaN</td>\n",
       "      <td>NaN</td>\n",
       "      <td>NaN</td>\n",
       "      <td>NaN</td>\n",
       "      <td>NaN</td>\n",
       "    </tr>\n",
       "    <tr>\n",
       "      <th>22</th>\n",
       "      <td>0.5491</td>\n",
       "      <td>9.611059</td>\n",
       "      <td>1.377119e-06</td>\n",
       "      <td>3.147541</td>\n",
       "      <td>96</td>\n",
       "      <td>NaN</td>\n",
       "      <td>NaN</td>\n",
       "      <td>NaN</td>\n",
       "      <td>NaN</td>\n",
       "      <td>NaN</td>\n",
       "      <td>NaN</td>\n",
       "      <td>NaN</td>\n",
       "      <td>NaN</td>\n",
       "      <td>NaN</td>\n",
       "      <td>NaN</td>\n",
       "    </tr>\n",
       "    <tr>\n",
       "      <th>23</th>\n",
       "      <td>NaN</td>\n",
       "      <td>NaN</td>\n",
       "      <td>NaN</td>\n",
       "      <td>3.147541</td>\n",
       "      <td>96</td>\n",
       "      <td>0.754692</td>\n",
       "      <td>2.507937</td>\n",
       "      <td>195.1232</td>\n",
       "      <td>0.302</td>\n",
       "      <td>0.041</td>\n",
       "      <td>NaN</td>\n",
       "      <td>NaN</td>\n",
       "      <td>NaN</td>\n",
       "      <td>NaN</td>\n",
       "      <td>NaN</td>\n",
       "    </tr>\n",
       "    <tr>\n",
       "      <th>24</th>\n",
       "      <td>0.4959</td>\n",
       "      <td>7.619028</td>\n",
       "      <td>9.533898e-07</td>\n",
       "      <td>3.409836</td>\n",
       "      <td>104</td>\n",
       "      <td>NaN</td>\n",
       "      <td>NaN</td>\n",
       "      <td>NaN</td>\n",
       "      <td>NaN</td>\n",
       "      <td>NaN</td>\n",
       "      <td>NaN</td>\n",
       "      <td>NaN</td>\n",
       "      <td>NaN</td>\n",
       "      <td>NaN</td>\n",
       "      <td>NaN</td>\n",
       "    </tr>\n",
       "    <tr>\n",
       "      <th>25</th>\n",
       "      <td>NaN</td>\n",
       "      <td>NaN</td>\n",
       "      <td>NaN</td>\n",
       "      <td>3.409836</td>\n",
       "      <td>104</td>\n",
       "      <td>0.748981</td>\n",
       "      <td>2.419643</td>\n",
       "      <td>194.9033</td>\n",
       "      <td>0.303</td>\n",
       "      <td>0.041</td>\n",
       "      <td>NaN</td>\n",
       "      <td>NaN</td>\n",
       "      <td>NaN</td>\n",
       "      <td>NaN</td>\n",
       "      <td>NaN</td>\n",
       "    </tr>\n",
       "    <tr>\n",
       "      <th>26</th>\n",
       "      <td>0.4853</td>\n",
       "      <td>7.708928</td>\n",
       "      <td>5.296610e-07</td>\n",
       "      <td>3.672131</td>\n",
       "      <td>112</td>\n",
       "      <td>NaN</td>\n",
       "      <td>NaN</td>\n",
       "      <td>NaN</td>\n",
       "      <td>NaN</td>\n",
       "      <td>NaN</td>\n",
       "      <td>NaN</td>\n",
       "      <td>NaN</td>\n",
       "      <td>NaN</td>\n",
       "      <td>NaN</td>\n",
       "      <td>NaN</td>\n",
       "    </tr>\n",
       "    <tr>\n",
       "      <th>27</th>\n",
       "      <td>NaN</td>\n",
       "      <td>NaN</td>\n",
       "      <td>NaN</td>\n",
       "      <td>3.672131</td>\n",
       "      <td>112</td>\n",
       "      <td>0.743336</td>\n",
       "      <td>2.405754</td>\n",
       "      <td>194.2398</td>\n",
       "      <td>0.304</td>\n",
       "      <td>0.041</td>\n",
       "      <td>NaN</td>\n",
       "      <td>NaN</td>\n",
       "      <td>NaN</td>\n",
       "      <td>NaN</td>\n",
       "      <td>NaN</td>\n",
       "    </tr>\n",
       "    <tr>\n",
       "      <th>28</th>\n",
       "      <td>0.5301</td>\n",
       "      <td>8.639153</td>\n",
       "      <td>1.059322e-07</td>\n",
       "      <td>3.934426</td>\n",
       "      <td>120</td>\n",
       "      <td>NaN</td>\n",
       "      <td>NaN</td>\n",
       "      <td>NaN</td>\n",
       "      <td>NaN</td>\n",
       "      <td>NaN</td>\n",
       "      <td>NaN</td>\n",
       "      <td>NaN</td>\n",
       "      <td>NaN</td>\n",
       "      <td>NaN</td>\n",
       "      <td>NaN</td>\n",
       "    </tr>\n",
       "    <tr>\n",
       "      <th>29</th>\n",
       "      <td>NaN</td>\n",
       "      <td>NaN</td>\n",
       "      <td>NaN</td>\n",
       "      <td>3.934426</td>\n",
       "      <td>120</td>\n",
       "      <td>0.740582</td>\n",
       "      <td>2.397817</td>\n",
       "      <td>195.1298</td>\n",
       "      <td>0.302</td>\n",
       "      <td>0.041</td>\n",
       "      <td>NaN</td>\n",
       "      <td>NaN</td>\n",
       "      <td>NaN</td>\n",
       "      <td>NaN</td>\n",
       "      <td>NaN</td>\n",
       "    </tr>\n",
       "    <tr>\n",
       "      <th>30</th>\n",
       "      <td>NaN</td>\n",
       "      <td>NaN</td>\n",
       "      <td>NaN</td>\n",
       "      <td>4.000000</td>\n",
       "      <td>122</td>\n",
       "      <td>NaN</td>\n",
       "      <td>NaN</td>\n",
       "      <td>NaN</td>\n",
       "      <td>NaN</td>\n",
       "      <td>NaN</td>\n",
       "      <td>5609.8744</td>\n",
       "      <td>0.696</td>\n",
       "      <td>0.022</td>\n",
       "      <td>1.122020e+18</td>\n",
       "      <td>0.937388</td>\n",
       "    </tr>\n",
       "  </tbody>\n",
       "</table>\n",
       "</div>"
      ],
      "text/plain": [
       "      loss  grad_norm  learning_rate     epoch  step  eval_loss  eval_wer  \\\n",
       "0   2.9830  16.955374   6.038136e-06  0.262295     8        NaN       NaN   \n",
       "1      NaN        NaN            NaN  0.262295     8   2.211231  0.179563   \n",
       "2   1.9228  15.038457   5.614407e-06  0.524590    16        NaN       NaN   \n",
       "3      NaN        NaN            NaN  0.524590    16   1.582587  1.095238   \n",
       "4   1.3936  11.334648   5.190678e-06  0.786885    24        NaN       NaN   \n",
       "5      NaN        NaN            NaN  0.786885    24   1.046267  1.184524   \n",
       "6   0.9704   9.352040   4.766949e-06  1.049180    32        NaN       NaN   \n",
       "7      NaN        NaN            NaN  1.049180    32   0.953691  2.366071   \n",
       "8   0.8859   9.823107   4.343220e-06  1.311475    40        NaN       NaN   \n",
       "9      NaN        NaN            NaN  1.311475    40   0.904624  2.453373   \n",
       "10  0.7572   8.358237   3.919492e-06  1.573770    48        NaN       NaN   \n",
       "11     NaN        NaN            NaN  1.573770    48   0.864689  2.427579   \n",
       "12  0.7469  10.324574   3.495763e-06  1.836066    56        NaN       NaN   \n",
       "13     NaN        NaN            NaN  1.836066    56   0.829311  2.728175   \n",
       "14  0.6778   7.780064   3.072034e-06  2.098361    64        NaN       NaN   \n",
       "15     NaN        NaN            NaN  2.098361    64   0.808190  2.818452   \n",
       "16  0.5932   8.675405   2.648305e-06  2.360656    72        NaN       NaN   \n",
       "17     NaN        NaN            NaN  2.360656    72   0.791739  2.868056   \n",
       "18  0.5879   8.530070   2.224576e-06  2.622951    80        NaN       NaN   \n",
       "19     NaN        NaN            NaN  2.622951    80   0.775466  2.766865   \n",
       "20  0.5968   9.402825   1.800847e-06  2.885246    88        NaN       NaN   \n",
       "21     NaN        NaN            NaN  2.885246    88   0.762309  2.640873   \n",
       "22  0.5491   9.611059   1.377119e-06  3.147541    96        NaN       NaN   \n",
       "23     NaN        NaN            NaN  3.147541    96   0.754692  2.507937   \n",
       "24  0.4959   7.619028   9.533898e-07  3.409836   104        NaN       NaN   \n",
       "25     NaN        NaN            NaN  3.409836   104   0.748981  2.419643   \n",
       "26  0.4853   7.708928   5.296610e-07  3.672131   112        NaN       NaN   \n",
       "27     NaN        NaN            NaN  3.672131   112   0.743336  2.405754   \n",
       "28  0.5301   8.639153   1.059322e-07  3.934426   120        NaN       NaN   \n",
       "29     NaN        NaN            NaN  3.934426   120   0.740582  2.397817   \n",
       "30     NaN        NaN            NaN  4.000000   122        NaN       NaN   \n",
       "\n",
       "    eval_runtime  eval_samples_per_second  eval_steps_per_second  \\\n",
       "0            NaN                      NaN                    NaN   \n",
       "1        67.7924                    0.870                  0.118   \n",
       "2            NaN                      NaN                    NaN   \n",
       "3       137.5801                    0.429                  0.058   \n",
       "4            NaN                      NaN                    NaN   \n",
       "5       142.1265                    0.415                  0.056   \n",
       "6            NaN                      NaN                    NaN   \n",
       "7       193.6582                    0.305                  0.041   \n",
       "8            NaN                      NaN                    NaN   \n",
       "9       183.4360                    0.322                  0.044   \n",
       "10           NaN                      NaN                    NaN   \n",
       "11      183.2126                    0.322                  0.044   \n",
       "12           NaN                      NaN                    NaN   \n",
       "13      195.1305                    0.302                  0.041   \n",
       "14           NaN                      NaN                    NaN   \n",
       "15      195.1293                    0.302                  0.041   \n",
       "16           NaN                      NaN                    NaN   \n",
       "17      195.1961                    0.302                  0.041   \n",
       "18           NaN                      NaN                    NaN   \n",
       "19      195.4123                    0.302                  0.041   \n",
       "20           NaN                      NaN                    NaN   \n",
       "21      195.7048                    0.301                  0.041   \n",
       "22           NaN                      NaN                    NaN   \n",
       "23      195.1232                    0.302                  0.041   \n",
       "24           NaN                      NaN                    NaN   \n",
       "25      194.9033                    0.303                  0.041   \n",
       "26           NaN                      NaN                    NaN   \n",
       "27      194.2398                    0.304                  0.041   \n",
       "28           NaN                      NaN                    NaN   \n",
       "29      195.1298                    0.302                  0.041   \n",
       "30           NaN                      NaN                    NaN   \n",
       "\n",
       "    train_runtime  train_samples_per_second  train_steps_per_second  \\\n",
       "0             NaN                       NaN                     NaN   \n",
       "1             NaN                       NaN                     NaN   \n",
       "2             NaN                       NaN                     NaN   \n",
       "3             NaN                       NaN                     NaN   \n",
       "4             NaN                       NaN                     NaN   \n",
       "5             NaN                       NaN                     NaN   \n",
       "6             NaN                       NaN                     NaN   \n",
       "7             NaN                       NaN                     NaN   \n",
       "8             NaN                       NaN                     NaN   \n",
       "9             NaN                       NaN                     NaN   \n",
       "10            NaN                       NaN                     NaN   \n",
       "11            NaN                       NaN                     NaN   \n",
       "12            NaN                       NaN                     NaN   \n",
       "13            NaN                       NaN                     NaN   \n",
       "14            NaN                       NaN                     NaN   \n",
       "15            NaN                       NaN                     NaN   \n",
       "16            NaN                       NaN                     NaN   \n",
       "17            NaN                       NaN                     NaN   \n",
       "18            NaN                       NaN                     NaN   \n",
       "19            NaN                       NaN                     NaN   \n",
       "20            NaN                       NaN                     NaN   \n",
       "21            NaN                       NaN                     NaN   \n",
       "22            NaN                       NaN                     NaN   \n",
       "23            NaN                       NaN                     NaN   \n",
       "24            NaN                       NaN                     NaN   \n",
       "25            NaN                       NaN                     NaN   \n",
       "26            NaN                       NaN                     NaN   \n",
       "27            NaN                       NaN                     NaN   \n",
       "28            NaN                       NaN                     NaN   \n",
       "29            NaN                       NaN                     NaN   \n",
       "30      5609.8744                     0.696                   0.022   \n",
       "\n",
       "      total_flos  train_loss  \n",
       "0            NaN         NaN  \n",
       "1            NaN         NaN  \n",
       "2            NaN         NaN  \n",
       "3            NaN         NaN  \n",
       "4            NaN         NaN  \n",
       "5            NaN         NaN  \n",
       "6            NaN         NaN  \n",
       "7            NaN         NaN  \n",
       "8            NaN         NaN  \n",
       "9            NaN         NaN  \n",
       "10           NaN         NaN  \n",
       "11           NaN         NaN  \n",
       "12           NaN         NaN  \n",
       "13           NaN         NaN  \n",
       "14           NaN         NaN  \n",
       "15           NaN         NaN  \n",
       "16           NaN         NaN  \n",
       "17           NaN         NaN  \n",
       "18           NaN         NaN  \n",
       "19           NaN         NaN  \n",
       "20           NaN         NaN  \n",
       "21           NaN         NaN  \n",
       "22           NaN         NaN  \n",
       "23           NaN         NaN  \n",
       "24           NaN         NaN  \n",
       "25           NaN         NaN  \n",
       "26           NaN         NaN  \n",
       "27           NaN         NaN  \n",
       "28           NaN         NaN  \n",
       "29           NaN         NaN  \n",
       "30  1.122020e+18    0.937388  "
      ]
     },
     "execution_count": 28,
     "metadata": {},
     "output_type": "execute_result"
    }
   ],
   "source": [
    "import pandas as pd\n",
    "trainer_history = pd.DataFrame(trainer.state.log_history)\n",
    "trainer_history.groupby('step').first().reset_index()\n",
    "trainer_history"
   ]
  },
  {
   "cell_type": "markdown",
   "metadata": {},
   "source": [
    "### Evaluation\n",
    "Lowest Wer scores actualy at the early phase of training and continue rose up until step 80 and start declining! WER: 0.17%"
   ]
  },
  {
   "cell_type": "code",
   "execution_count": 29,
   "metadata": {},
   "outputs": [
    {
     "data": {
      "image/png": "[encoded data removed]",
      "text/plain": [
       "<Figure size 1200x800 with 1 Axes>"
      ]
     },
     "metadata": {},
     "output_type": "display_data"
    }
   ],
   "source": [
    "import matplotlib.pyplot as plt\n",
    "\n",
    "# Plot WER over training steps\n",
    "plt.figure(figsize=(12, 8))\n",
    "\n",
    "# Plot WER\n",
    "plt.subplot(2, 1, 1)\n",
    "plt.plot(trainer_history['step'], trainer_history['eval_wer'], marker='o', label='WER')\n",
    "plt.title(\"WER over Training Steps\")\n",
    "plt.xlabel(\"Steps\")\n",
    "plt.ylabel(\"WER Evaluation\")\n",
    "plt.legend()\n",
    "plt.grid(True)\n",
    "\n",
    "plt.tight_layout()\n",
    "plt.show()"
   ]
  },
  {
   "cell_type": "markdown",
   "metadata": {},
   "source": [
    "### Inference"
   ]
  },
  {
   "cell_type": "code",
   "execution_count": 55,
   "metadata": {},
   "outputs": [
    {
     "name": "stdout",
     "output_type": "stream",
     "text": [
      "Model and processor loaded successfully.\n"
     ]
    }
   ],
   "source": [
    "import time\n",
    "from transformers import WhisperForConditionalGeneration, WhisperProcessor\n",
    "\n",
    "# Define the path to the model checkpoint\n",
    "model_path = \"./whisper-small-ger-lr6.25-adv/checkpoint-8\"\n",
    "\n",
    "# Load the best fine-tuned model\n",
    "try:\n",
    "    model = WhisperForConditionalGeneration.from_pretrained(model_path).to(device)\n",
    "    processor = WhisperProcessor.from_pretrained(model_path)\n",
    "    print(\"Model and processor loaded successfully.\")\n",
    "except OSError as e:\n",
    "    print(f\"Error loading model or processor: {e}\")\n",
    "\n",
    "# Inference function\n",
    "# Inference function with language token\n",
    "def transcribe(audio):\n",
    "    input_features = processor(audio[\"array\"], sampling_rate=audio[\"sampling_rate\"], return_tensors=\"pt\").input_features.to(device)\n",
    "    forced_decoder_ids = processor.get_decoder_prompt_ids(language=\"de\", task=\"transcribe\")\n",
    "    predicted_ids = model.generate(input_features, forced_decoder_ids=forced_decoder_ids)\n",
    "    transcription = processor.batch_decode(predicted_ids, skip_special_tokens=True)\n",
    "    return transcription[0]"
   ]
  },
  {
   "cell_type": "markdown",
   "metadata": {},
   "source": [
    "### Inference Result\n",
    "\n",
    "we got 1.0117 seconds for best inference and avg wer of 0.4%. Yeay!"
   ]
  },
  {
   "cell_type": "code",
   "execution_count": 49,
   "metadata": {},
   "outputs": [
    {
     "name": "stdout",
     "output_type": "stream",
     "text": [
      "Sample 1:\n",
      "Reference: ich würde gerne meinen aktuellen Kontostand einsehen\n",
      "Prediction: ich würde gerne meinen aktuellen kontostand einzahlen\n",
      "Inference time: 1.0117 seconds\n",
      "\n",
      "Sample 2:\n",
      "Reference: Hallo ich bin am Wochenende nach Warschau und habe meine Bank geguckt geschrieben gewechselt und wollte nur sicher gehen dass ich meine Kreditkarte dann auch da benutzen kann\n",
      "Prediction: hallo ich bin ein wochen um nach wasch auf und habe meine bankkreditkarte zu ihnen gewechselt und wollte mir sichergehen dass ich meine kreditkarte dann auch da benutzen kann\n",
      "Inference time: 2.7010 seconds\n",
      "\n",
      "Sample 3:\n",
      "Reference: Hallo ich habe eine Frage wo kann ich denn überall Geld einzahlen ich habe mal gesehen was kann das in den Supermärkten eventuell die ausgewiesen gibt's da noch mehr stellen\n",
      "Prediction: hallo ich habe eine frage wo kann ich denn überall geld einzahlen ich habe mal gesehen man kann das in den supermärkten und baumärkten eventuell die ausgewählten einzahlen gibt es da noch mehr stellen\n",
      "Inference time: 3.3424 seconds\n",
      "\n",
      "WER for 3 samples: 0.4\n"
     ]
    }
   ],
   "source": [
    "# Run inference on three samples\n",
    "for i in range(3):\n",
    "    sample = ds2[\"test\"][i]\n",
    "    \n",
    "    start_time = time.time()\n",
    "    transcription = transcribe(sample[\"audio\"])\n",
    "    end_time = time.time()\n",
    "    \n",
    "    inference_time = end_time - start_time\n",
    "    \n",
    "    print(f\"Sample {i+1}:\")\n",
    "    print(f\"Reference: {sample['transcription']}\")\n",
    "    print(f\"Prediction: {transcription}\")\n",
    "    print(f\"Inference time: {inference_time:.4f} seconds\")\n",
    "    print()\n",
    "\n",
    "# Calculate overall WER for these three samples\n",
    "wer = metric.compute(predictions=[transcribe(ds2[\"test\"][i][\"audio\"]) for i in range(3)],\n",
    "                     references=[ds2[\"test\"][i][\"transcription\"] for i in range(3)])\n",
    "print(f\"WER for 3 samples: {wer}\")"
   ]
  },
  {
   "cell_type": "markdown",
   "metadata": {},
   "source": [
    "### Little Bit of Demo for Spice it up\n",
    "ps try to speak in german and let the fine tune model transcribe!"
   ]
  },
  {
   "cell_type": "code",
   "execution_count": 51,
   "metadata": {},
   "outputs": [
    {
     "name": "stdout",
     "output_type": "stream",
     "text": [
      "Recording...\n",
      "Recording finished.\n",
      "Transcription: hallo mein name ist sabir und ich studiere jes kundschiller intelligence\n"
     ]
    }
   ],
   "source": [
    "import sounddevice as sd\n",
    "import numpy as np\n",
    "\n",
    "# Function to record audio from the microphone\n",
    "def record_audio(duration, sample_rate=16000):\n",
    "    print(\"Recording...\")\n",
    "    audio = sd.rec(int(duration * sample_rate), samplerate=sample_rate, channels=1, dtype='float32')\n",
    "    sd.wait()  # Wait until the recording is finished\n",
    "    print(\"Recording finished.\")\n",
    "    audio = np.squeeze(audio)  # Remove single-dimensional entries\n",
    "    return {\"array\": audio, \"sampling_rate\": sample_rate}\n",
    "\n",
    "# Record audio from the microphone\n",
    "duration = 10  # Record for 5 seconds\n",
    "audio = record_audio(duration)\n",
    "\n",
    "# Transcribe the recorded audio\n",
    "transcription = transcribe(audio)\n",
    "print(\"Transcription:\", transcription)"
   ]
  }
 ],
 "metadata": {
  "kernelspec": {
   "display_name": "pr3_venv",
   "language": "python",
   "name": "python3"
  },
  "language_info": {
   "codemirror_mode": {
    "name": "ipython",
    "version": 3
   },
   "file_extension": ".py",
   "mimetype": "text/x-python",
   "name": "python",
   "nbconvert_exporter": "python",
   "pygments_lexer": "ipython3",
   "version": "3.10.14"
  }
 },
 "nbformat": 4,
 "nbformat_minor": 2
}
